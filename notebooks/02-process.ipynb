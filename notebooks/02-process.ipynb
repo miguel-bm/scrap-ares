{
 "cells": [
  {
   "cell_type": "code",
   "execution_count": 41,
   "metadata": {},
   "outputs": [],
   "source": [
    "import pandas as pd"
   ]
  },
  {
   "cell_type": "code",
   "execution_count": 44,
   "metadata": {},
   "outputs": [],
   "source": [
    "def clean_summon_data(\n",
    "    raw_df: pd.DataFrame,\n",
    ") -> pd.DataFrame:\n",
    "    df = raw_df.copy()\n",
    "\n",
    "    df = df.rename(\n",
    "        columns={\n",
    "            \"tipolista\": \"list_type\",\n",
    "            \"subtipo\": \"list_subtype\",\n",
    "            \"norden\": \"order\",\n",
    "            \"puntos\": \"points\",\n",
    "            \"dfuncion\": \"function\",\n",
    "            \"fcpublico\": \"publication_date\",\n",
    "            \"cfunc\": \"function_full_code\",\n",
    "            \"ittipoacto\": \"act_type\",\n",
    "            \"nombre\": \"name\",\n",
    "            \"papellid\": \"first_surname\",\n",
    "            \"sapellid\": \"second_surname\",\n",
    "        }\n",
    "    )\n",
    "    df = df.drop(\n",
    "        columns=[\n",
    "            \"desempate\",\n",
    "            \"acceso\",\n",
    "            \"colectivo\",\n",
    "            \"resp\",\n",
    "            \"cdtpvia\",\n",
    "            \"domicilio\",\n",
    "            \"nmvial\",\n",
    "            \"dcuerpo\",\n",
    "            \"strpuntos\",\n",
    "            \"fcFinPreSol\",\n",
    "            \"fcIniPreSol\",\n",
    "            \"exp\",\n",
    "            \"perfilespecifico\",\n",
    "            \"nombre\",\n",
    "            \"papellid\",\n",
    "            \"sapellid\",\n",
    "        ]\n",
    "    )\n",
    "    # interpret publication_date\n",
    "    df[\"publication_date\"] = pd.to_datetime(df[\"publication_date\"], format=\"%Y-%m-%d\")\n",
    "    df[\"function_code\"] = df[\"function_full_code\"].apply(lambda x: int(str(x)[-3:]))\n",
    "    df[\"list_full_code\"] = df[\"list_type\"].astype(str).str.cat(df[\"list_subtype\"].astype(str), sep=\".\")\n",
    "    df[\"points\"] = df[\"points\"].astype(float).apply(lambda x: round(x, 5))\n",
    "    df[\"full_name\"] = df[\"name\"].str.cat(df[\"first_surname\"].str.cat(df[\"second_surname\"], sep=\" \"), sep=\" \")\n",
    "    return df"
   ]
  },
  {
   "cell_type": "code",
   "execution_count": 45,
   "metadata": {},
   "outputs": [],
   "source": [
    "for list_type in (\"O\", \"V\", \"E\"):\n",
    "    raw_df = pd.read_json(f\"data/raw/summon-{list_type}.json\")\n",
    "    clean_df = clean_summon_data(raw_df)\n",
    "    clean_df.to_csv(f\"data/processed/summon-{list_type}.csv\", index=False)"
   ]
  },
  {
   "cell_type": "code",
   "execution_count": 59,
   "metadata": {},
   "outputs": [],
   "source": [
    "def clean_assign_data(\n",
    "    raw_df: pd.DataFrame,\n",
    ") -> pd.DataFrame:\n",
    "    df = raw_df.copy()\n",
    "\n",
    "    df = df.rename(\n",
    "        columns={\n",
    "            \"lista\": \"list_type\",\n",
    "            \"subtipo\": \"list_subtype\",\n",
    "            #\"norden\": \"order\",\n",
    "            #\"puntos\": \"points\",\n",
    "            \"dfuncion\": \"function\",\n",
    "            \"fcpublico\": \"publication_date\",\n",
    "            \"fhasta\": \"end_date\",\n",
    "            \"cfunc\": \"function_full_code\",\n",
    "            \"ittipoacto\": \"act_type\",\n",
    "            \"nombre\": \"name\",\n",
    "            \"papellid\": \"first_surname\",\n",
    "            \"sapellid\": \"second_surname\",\n",
    "            \"dloc\": \"location\",\n",
    "            \"centro\": \"school\",\n",
    "        }\n",
    "    )\n",
    "    \n",
    "    df = df.drop(\n",
    "        columns=[\n",
    "            \"desempate\",\n",
    "            \"acceso\",\n",
    "            \"resp\",\n",
    "            \"cdtpvia\",\n",
    "            \"domicilio\",\n",
    "            \"nmvial\",\n",
    "            \"dcuerpo\",\n",
    "            \"perfilespecifico\",\n",
    "            \"cloc\",\n",
    "            \"numasig\",\n",
    "            \"cdabrev\",\n",
    "            \"ccentro\",\n",
    "            \"observaciones\",\n",
    "            \"miniDat\",\n",
    "            \"year\",\n",
    "            \"strfhasta\",\n",
    "            \"act_type\",\n",
    "            \"distrito\",\n",
    "        ]\n",
    "    )\n",
    "    # interpret publication_date\n",
    "    df[\"publication_date\"] = pd.to_datetime(df[\"publication_date\"], format=\"%Y-%m-%d\")\n",
    "    df[\"end_date\"] = pd.to_datetime(df[\"end_date\"], format=\"%Y-%m-%d\")\n",
    "    df[\"function_code\"] = df[\"function_full_code\"].apply(lambda x: int(str(x)[-3:]))\n",
    "    df[\"list_full_code\"] = df[\"list_type\"].astype(str).str.cat(df[\"list_subtype\"].astype(str), sep=\".\")\n",
    "    df[\"full_name\"] = df[\"name\"].str.cat(df[\"first_surname\"].str.cat(df[\"second_surname\"], sep=\" \"), sep=\" \")\n",
    "    return df"
   ]
  },
  {
   "cell_type": "code",
   "execution_count": 60,
   "metadata": {},
   "outputs": [],
   "source": [
    "for list_type in (\"O\", \"V\", \"E\"):\n",
    "    raw_df = pd.read_json(f\"data/raw/assign-{list_type}.json\")\n",
    "    clean_df = clean_assign_data(raw_df)\n",
    "    clean_df.to_csv(f\"data/processed/assign-{list_type}.csv\", index=False)"
   ]
  }
 ],
 "metadata": {
  "kernelspec": {
   "display_name": "scrap-ares-FzfA0gbl-py3.11",
   "language": "python",
   "name": "python3"
  },
  "language_info": {
   "codemirror_mode": {
    "name": "ipython",
    "version": 3
   },
   "file_extension": ".py",
   "mimetype": "text/x-python",
   "name": "python",
   "nbconvert_exporter": "python",
   "pygments_lexer": "ipython3",
   "version": "3.11.2"
  },
  "orig_nbformat": 4,
  "vscode": {
   "interpreter": {
    "hash": "56c291a1fdef50ea4fbe774c7df27b68fe1d8f1a8750be1683ecd1affd5a4f6c"
   }
  }
 },
 "nbformat": 4,
 "nbformat_minor": 2
}
